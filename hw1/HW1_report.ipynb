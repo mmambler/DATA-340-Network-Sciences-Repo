{
  "nbformat": 4,
  "nbformat_minor": 0,
  "metadata": {
    "colab": {
      "provenance": []
    },
    "kernelspec": {
      "name": "python3",
      "display_name": "Python 3"
    },
    "language_info": {
      "name": "python"
    }
  },
  "cells": [
    {
      "cell_type": "markdown",
      "source": [
        "# HW1 - Network Elements\n",
        "### Mac Ambler\n",
        "### DATA 340-02, Spring 2023\n",
        "### 02/14/2023\n"
      ],
      "metadata": {
        "id": "cnaJOC71wJvb"
      }
    },
    {
      "cell_type": "markdown",
      "source": [
        "# Q1\n",
        "\n",
        "*Go through the tutorial on Network elements.*\n",
        "\n",
        "*Implement functions for Exercises 1 -- 3*\n",
        "\n",
        "## Answers\n",
        "\n",
        "### *EXERCISE 1*\n",
        "*Often in the context of trees, a node with degree 1 is called a leaf. Write a function named `get_leaves` that takes a graph as an argument, loops through the nodes, and returns a list of nodes with degree 1.*\n",
        "\n"
      ],
      "metadata": {
        "id": "N2VNck0DylKe"
      }
    },
    {
      "cell_type": "code",
      "source": [
        "import networkx as nx"
      ],
      "metadata": {
        "id": "gMfPsTR0zJrJ"
      },
      "execution_count": 2,
      "outputs": []
    },
    {
      "cell_type": "code",
      "source": [
        "def get_leaves(G):\n",
        "  leaves = []\n",
        "  for node in G.nodes:\n",
        "    if G.degree(node) == 1:\n",
        "      leaves.append(node)\n",
        "  return leaves"
      ],
      "metadata": {
        "id": "9rWGiHV38d8T"
      },
      "execution_count": 3,
      "outputs": []
    },
    {
      "cell_type": "code",
      "source": [
        "G = nx.Graph()\n",
        "G.add_edges_from([\n",
        "        ('a', 'b'),\n",
        "        ('a', 'd'),\n",
        "        ('c', 'd'),\n",
        "    ])\n",
        "assert set(get_leaves(G)) == {'c', 'b'}, 'failed :('\n",
        "print('success! :)')"
      ],
      "metadata": {
        "colab": {
          "base_uri": "https://localhost:8080/"
        },
        "id": "wCZw1Ebc8jLO",
        "outputId": "0a1b14f0-1ed7-4de2-8218-d6bb1a58e0df"
      },
      "execution_count": 4,
      "outputs": [
        {
          "output_type": "stream",
          "name": "stdout",
          "text": [
            "success! :)\n"
          ]
        }
      ]
    },
    {
      "cell_type": "markdown",
      "source": [
        "### *EXERCISE 2*\n",
        "\n",
        "*Write a function max_degree that takes a graph as its argument, and returns a 2-tuple with the name and degree of the node with highest degree.*"
      ],
      "metadata": {
        "id": "nkPyA0Gi-nnN"
      }
    },
    {
      "cell_type": "code",
      "source": [
        "def max_degree(G):\n",
        "  max = ['',0]\n",
        "  for i in G.nodes:\n",
        "    if G.degree(i) > max[1]:\n",
        "      max = [i,G.degree(i)]\n",
        "  return tuple(max)"
      ],
      "metadata": {
        "id": "tKK9-Bj5JDJM"
      },
      "execution_count": 9,
      "outputs": []
    },
    {
      "cell_type": "code",
      "source": [
        "SG = nx.read_adjlist('/content/drive/MyDrive/Network Science/HW1/friends.adjlist')\n",
        "assert max_degree(SG) == ('Claire', 4), 'failed :('\n",
        "print('success! :)')"
      ],
      "metadata": {
        "colab": {
          "base_uri": "https://localhost:8080/"
        },
        "id": "uas4xFw4JEFS",
        "outputId": "ed2eb9fc-516b-442f-d5d4-1eb17c76a226"
      },
      "execution_count": 10,
      "outputs": [
        {
          "output_type": "stream",
          "name": "stdout",
          "text": [
            "success! :)\n"
          ]
        }
      ]
    },
    {
      "cell_type": "markdown",
      "source": [
        "### *EXERCISE 3*\n",
        "\n",
        "*Write a function `mutual_friends` that takes a graph and two nodes as arguments, and returns a list (or set) of nodes that are linked to both given nodes. For example, in the graph `SG` drawn above,*\n",
        "\n",
        "    mutual_friends(SG, 'Alice', 'Claire') == ['Frank']\n",
        "\n",
        "*an empty list or set should be returned in the case where two nodes have no mutual friends, e.g. George and Bob in `SG` drawn above.*"
      ],
      "metadata": {
        "id": "LIdPHKlj-poH"
      }
    },
    {
      "cell_type": "code",
      "source": [
        "def mutual_friends(G, node_1, node_2):\n",
        "  mutuals = []\n",
        "  for i in list(G.neighbors(node_1)):\n",
        "    if i in list(G.neighbors(node_2)):\n",
        "      mutuals.append(i)\n",
        "  return mutuals"
      ],
      "metadata": {
        "id": "EfwKjGSo-vB-"
      },
      "execution_count": 11,
      "outputs": []
    },
    {
      "cell_type": "code",
      "source": [
        "SG = nx.read_adjlist('/content/drive/MyDrive/Network Science/HW1/friends.adjlist')\n",
        "assert mutual_friends(SG, 'Alice', 'Claire') == ['Frank'], 'failed :('\n",
        "assert mutual_friends(SG, 'George', 'Bob') == [], 'failed :('\n",
        "assert sorted(mutual_friends(SG, 'Claire', 'George')) == ['Dennis', 'Frank'], 'failed :('\n",
        "print('success! :)')"
      ],
      "metadata": {
        "colab": {
          "base_uri": "https://localhost:8080/"
        },
        "id": "Eah1TQsUMpjP",
        "outputId": "703269aa-332c-4464-dcfa-5d1592018712"
      },
      "execution_count": 12,
      "outputs": [
        {
          "output_type": "stream",
          "name": "stdout",
          "text": [
            "success! :)\n"
          ]
        }
      ]
    },
    {
      "cell_type": "markdown",
      "source": [
        "## Discussion\n",
        "\n",
        "### Exercise 1\n",
        "\n",
        "In order to create a function that finds all leaves in a given network, I first have it create an empty list called 'leaves'. I then have it iterate over all of the nodes in the network and check to see if the given node has only one link. If so, the node is appended to the 'leaves' list. Finally, the function returns 'leaves'.\n",
        "\n",
        "### Exercise 2\n",
        "\n",
        "To build a fuction that finds the node with the highest degree in a network, I first have it define a list called 'max' that has two elements: an empty character string and the number zero. I then have it iterate over each of the nodes in the network and check if the degree of the node is larger than the second element in 'max'. If so, the values in 'max' will be reassigned to the name of said node and its degree. After it's done iterating, I have the function return 'max' as a tuple.\n",
        "\n",
        "### Exercise 3\n",
        "\n",
        "To make a function that takes a network and two nodes and returns a list of nodes linked to both given nodes, I first have it define an empty list called 'mutuals'. Then, I have it iterate over each of the neighbors of the first node and check if they are found in the neighbors of the second node. If they are, they are appended to 'mutuals'. Finally, the function returns the complete 'mutuals' list.\n",
        "\n",
        "# Q2\n",
        "\n",
        "*Consider this adjacency matrix.*\n",
        "\n",
        "![Adjacency-Matrix](https://raw.githubusercontent.com/mmambler/DATA-340-Network-Sciences-Repo/main/hw1/adj_mat.png?token=GHSAT0AAAAAAB6X53P2JCG7BQSSYCNJBNL6Y7K7JNA)\n",
        "\n",
        "*An entry in the ith row and jth column indicates the weight of the link from node i to node j. For instance, the entry in the second row and third column is 2, meaning the weight of the link from node B to node C is 2. What kind of network does this matrix represent?*\n",
        "\n",
        "*a. Undirected, unweighted*\n",
        "\n",
        "*b. Undirected, weighted*\n",
        "\n",
        "*c. Directed, unweighted*\n",
        "\n",
        "*d. Directed, weighted*\n",
        "\n",
        "*Why?*\n",
        "\n",
        "## Answer\n",
        "\n",
        "d. Directed, weighted\n",
        "\n",
        "## Discussion\n",
        "\n",
        "First, I knew the represented network was directed because the adjency matrix was not symmetric across the diagonal axis, meaning the existence of link (i,j) does not imply link (j,i).\n",
        "\n",
        "Additionally, I knew the represented network was weighted because links were not denoted exclusively by the number '1', but rather some links were weighted as '2' or '3' as well.\n",
        "\n",
        "# Q3\n",
        "\n",
        "*Consider the network defined by the adjacency matrix in Q2. How many nodes are in this network? How many links? Are there any self-loops?*\n",
        "\n",
        "*Discuss how you arrived at your answer.*\n",
        "\n",
        "## Answer\n",
        "\n",
        "The network defined by the adjacency matrix has 6 nodes, 10 links, and there are no self-loops.\n",
        "\n",
        "## Discussion\n",
        "\n",
        "First, I was able to determine the network has 6 nodes because it is represented by a 6x6 adjacency matrix.\n",
        "\n",
        "Second, I determined the network has 10 links by counting up the number of non-zero values in the matrix.\n",
        "\n",
        "Finally, I determined there were no self-loops because the values on the diagonal stretching from the upper-left to bottom-right of the matrix were all zero. This means no node in the matrix is linked to itself.\n",
        "\n",
        "# Q4\n",
        "\n",
        "*Webflix keeps data on customer preferences using a bipartite network connecting users to movies they have watched and/or rated. Webflix's movie library contains approximately 1,000 movies. In the fourth quarter of 2022, Webflix reported having about 5,000 users. Also, on average, a user has watched and/or rated 750 movies. Approximately how many links are in this network? Would you consider this network sparse or dense? Explain.*\n",
        "\n",
        "## Answer\n",
        "\n",
        "The network has approximately 3,750,000 links. I would consider this network to be dense, as it has a calculated density of 0.75.\n",
        "\n",
        "## Discussion\n",
        "\n",
        "First, I determined the approximate number of links in the network by multiplying the given approximate number of users by the average number of movies watched/rated per user. Thus, I multiplied 5,000 by 750 and received a product of 3,750,000.\n",
        "\n",
        "Next, I found the density of the network by taking the approximate number of links in the network and dividing it by the total possible number of links. In order to find the total possible number of links, I multiplied the number of users by the number of movies on Webflix. Thus, I multiplied 5,000 by 1,000 giving me a total possible number of links of 5,000,000, and then I divided 3,750,000 by 5,000,000, resulting in a density of 0.75. I determined from this number that the network is dense because a network is considered increasingly sparse as its density approaches zero, and, seeing as 0.75 is much closer to one than zero, the network is dense.\n",
        "\n",
        "# References\n",
        "\n",
        "* chp_01_network_elements.ipynb, <https://github.com/anwala/teaching-network-science/blob/main/spring-2023/week-2/data_340_02_s23_chp_01_network_elements.ipynb>\n",
        "* Homework 1 - Network Elements, <https://github.com/anwala/teaching-network-science/tree/main/spring-2023/homework/hw1>\n",
        "* Homework 0 - Writing HW Reports, <https://github.com/anwala/teaching-network-science/blob/main/spring-2023/homework/hw0>"
      ],
      "metadata": {
        "id": "CL4_WDbOzkGK"
      }
    }
  ]
}