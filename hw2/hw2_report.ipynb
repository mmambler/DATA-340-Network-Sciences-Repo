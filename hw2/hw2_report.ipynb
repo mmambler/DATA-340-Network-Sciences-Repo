{
  "nbformat": 4,
  "nbformat_minor": 0,
  "metadata": {
    "colab": {
      "provenance": []
    },
    "kernelspec": {
      "name": "python3",
      "display_name": "Python 3"
    },
    "language_info": {
      "name": "python"
    }
  },
  "cells": [
    {
      "cell_type": "markdown",
      "source": [
        "# HW2 - Small Worlds\n",
        "### Mac Ambler\n",
        "### DATA 340-02, Spring 2023\n",
        "### 02/23/2023\n"
      ],
      "metadata": {
        "id": "cnaJOC71wJvb"
      }
    },
    {
      "cell_type": "markdown",
      "source": [
        "# Q1\n",
        "\n",
        "*Go through the tutorial on Small worlds.*\n",
        "\n",
        "*Implement functions for Exercises 1 -- 3*\n",
        "\n",
        "## Answers\n",
        "\n",
        "### *EXERCISE 1*\n",
        "*Is there a direct flight between Indianapolis and Fairbanks, Alaska (FAI)? A direct flight is one with no intermediate stops.*\n",
        "\n"
      ],
      "metadata": {
        "id": "N2VNck0DylKe"
      }
    },
    {
      "cell_type": "code",
      "source": [
        "import networkx as nx\n",
        "G = nx.read_graphml('/content/drive/MyDrive/Network Science/HW2/openflights_usa.graphml.gz')"
      ],
      "metadata": {
        "id": "9rWGiHV38d8T"
      },
      "execution_count": 23,
      "outputs": []
    },
    {
      "cell_type": "code",
      "source": [
        "if nx.shortest_path_length(G, 'IND', 'FAI') == 1:\n",
        "  print('There is a direct flight between IND and FAI!')\n",
        "else:\n",
        "  print('There is not a direct flight between IND and FAI.')"
      ],
      "metadata": {
        "colab": {
          "base_uri": "https://localhost:8080/"
        },
        "id": "B7BTE9K5YnEo",
        "outputId": "062fd381-9023-4885-b41f-f77131b6700c"
      },
      "execution_count": 24,
      "outputs": [
        {
          "output_type": "stream",
          "name": "stdout",
          "text": [
            "There is not a direct flight between IND and FAI.\n"
          ]
        }
      ]
    },
    {
      "cell_type": "markdown",
      "source": [
        "### *EXERCISE 2*\n",
        "\n",
        "*If I wanted to fly from Indianapolis to Fairbanks, Alaska what would be an itinerary with the fewest number of flights?*"
      ],
      "metadata": {
        "id": "nkPyA0Gi-nnN"
      }
    },
    {
      "cell_type": "code",
      "source": [
        "print('Shortest Travel Itinerary:', nx.shortest_path(G, 'IND', 'FAI'))"
      ],
      "metadata": {
        "id": "tKK9-Bj5JDJM",
        "colab": {
          "base_uri": "https://localhost:8080/"
        },
        "outputId": "108a9815-583a-424c-dc43-3465bc9d24c8"
      },
      "execution_count": 25,
      "outputs": [
        {
          "output_type": "stream",
          "name": "stdout",
          "text": [
            "Shortest Travel Itinerary: ['IND', 'BOS', 'SEA', 'FAI']\n"
          ]
        }
      ]
    },
    {
      "cell_type": "markdown",
      "source": [
        "### *EXERCISE 3*\n",
        "\n",
        "*Is it possible to travel from any airport in the US to any other airport in the US, possibly using connecting flights? In other words, does there exist a path in the network between every possible pair of airports?*"
      ],
      "metadata": {
        "id": "LIdPHKlj-poH"
      }
    },
    {
      "cell_type": "code",
      "source": [
        "if nx.is_connected(G) == True:\n",
        "  print('There exists a path between every possible pair of airports!')\n",
        "else:\n",
        "  print('There does not exist a path between every possible pair of airports.')"
      ],
      "metadata": {
        "id": "EfwKjGSo-vB-",
        "colab": {
          "base_uri": "https://localhost:8080/"
        },
        "outputId": "682abdea-f3b3-48ac-b1c5-e027d91001a9"
      },
      "execution_count": 26,
      "outputs": [
        {
          "output_type": "stream",
          "name": "stdout",
          "text": [
            "There does not exist a path between every possible pair of airports.\n"
          ]
        }
      ]
    },
    {
      "cell_type": "markdown",
      "source": [
        "## Discussion\n",
        "\n",
        "### Exercise 1\n",
        "\n",
        "In order to answer Exercise 1, I used the NetworkX function \"shortest_path_length()\" to find the length of the shortest path between Indianapolis, Indiana and Fairbanks, Alaska. I then used an if...else statement to print whether there is or is not a direct flight based on whether or not the output from the function was equal to 1.\n",
        "\n",
        "### Exercise 2\n",
        "\n",
        "To answer Exercise 2, I used the NetworkX function \"shortest_path()\", which provides a list of nodes representing the shortest path between two nodes, to determine the shortest path between Indianapolis, Indiana and Fairbanks, Alaska. The resulting output indicates that the itinerary for the shortest path is to fly from Indianapolis to Boston to Seattle to Fairbanks.\n",
        "\n",
        "### Exercise 3\n",
        "\n",
        "For Exercise 3, I used the NetworkX function \"is_connected()\", which returns a boolean value indicating whether or not the network is connected. A network that is connected has a path between every possible pair of nodes. I then used an if...else statement to print whether there is or is not a path between every possible pair of airports based on whether or not the output from the function was \"True\".\n",
        "\n",
        "# Q2\n",
        "\n",
        "*What is the central idea behind the notion of \"six degrees of separation\"?*\n",
        "\n",
        "*a. Social networks have high clustering coefficients*\n",
        "\n",
        "*b. Social networks are sparse*\n",
        "\n",
        "*c. Social networks have many high-degree nodes*\n",
        "\n",
        "*d. Social networks have small average path lengths*\n",
        "\n",
        "*Why?*\n",
        "\n",
        "## Answer\n",
        "\n",
        "d. Social networks have small average path lengths\n",
        "\n",
        "## Discussion\n",
        "\n",
        "The term \"Six Degrees of Seperation\" is used to describe the concept of small worlds which very often appears in social networks. Networks that are considered small worlds have small average path lengths, meaning on average it takes very few links to create a path from one node to another.\n",
        "\n",
        "# Q3\n",
        "\n",
        "*Use The Oracle of Bacon to measure the shortest-path distance in the co-star network among at least 10 pairs of obscure actors and actresses as you can think of. Plot a histogram showing the distribution of the shortest-path lengths, and also estimate the average path length based on your sample.*\n",
        "\n",
        "## Answer\n",
        "\n",
        "\n",
        "\n"
      ],
      "metadata": {
        "id": "CL4_WDbOzkGK"
      }
    },
    {
      "cell_type": "code",
      "source": [
        "import matplotlib.pyplot as plt\n",
        "\n",
        "path_lengths = [2, 2, 2, 2, 3, 3, 3, 3, 3, 3]\n",
        "\n",
        "plt.hist(path_lengths)\n",
        "plt.xticks(range(1,7))\n",
        "plt.title('Shortest Path Lengths Between\\n10 Unique Pairs of Actors/Actresses')\n",
        "plt.xlabel('Shortest Path Length')\n",
        "plt.ylabel('Number of Actors/Actresses')\n",
        "plt.show()"
      ],
      "metadata": {
        "colab": {
          "base_uri": "https://localhost:8080/",
          "height": 310
        },
        "id": "wNgr9pc6Coyh",
        "outputId": "6b548ff3-1db6-4daf-d743-92b9145429d0"
      },
      "execution_count": 14,
      "outputs": [
        {
          "output_type": "display_data",
          "data": {
            "text/plain": [
              "<Figure size 432x288 with 1 Axes>"
            ],
            "image/png": "[encoded data removed]"
          },
          "metadata": {
            "needs_background": "light"
          }
        }
      ]
    },
    {
      "cell_type": "code",
      "source": [
        "import numpy as np\n",
        "\n",
        "print('Average Path Length (APL) =', np.mean(path_lengths))"
      ],
      "metadata": {
        "colab": {
          "base_uri": "https://localhost:8080/"
        },
        "id": "eiKTNZGkFLeF",
        "outputId": "dc69d0ea-53ca-43ab-c850-e69eb8eb3387"
      },
      "execution_count": 20,
      "outputs": [
        {
          "output_type": "stream",
          "name": "stdout",
          "text": [
            "Average Path Length (APL) = 2.6\n"
          ]
        }
      ]
    },
    {
      "cell_type": "markdown",
      "source": [
        "## Discussion\n",
        "\n",
        "Using the Oracle of Bacon, I found the shortest path length for ten unique pairings of five actors. The actors I chose were:\n",
        "* Marilyn Monroe\n",
        "* Charlie Chaplin\n",
        "* Dule Hill\n",
        "* Bella Ramsey\n",
        "* Jim Brown\n",
        "\n",
        "Using the matplotlib package, I plotted the histogram of shortest path lengths amongst these actors. Then, I computed that average of these path lengths using the numpy function \"mean()\".\n",
        "\n",
        "# References\n",
        "\n",
        "* data_340_02_s23_chp_02_small_worlds.ipynb, <https://github.com/anwala/teaching-network-science/blob/main/spring-2023/week-3/data_340_02_s23_chp_02_small_worlds.ipynb>\n",
        "* Homework 2 - Small Worlds, <https://github.com/anwala/teaching-network-science/tree/main/spring-2023/homework/hw2>\n",
        "* The Oracle of Bacon, <http://oracleofbacon.org/>"
      ],
      "metadata": {
        "id": "5fk93Al1Cpml"
      }
    }
  ]
}