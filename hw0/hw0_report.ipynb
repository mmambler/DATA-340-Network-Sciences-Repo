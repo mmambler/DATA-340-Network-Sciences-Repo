{
  "nbformat": 4,
  "nbformat_minor": 0,
  "metadata": {
    "colab": {
      "provenance": []
    },
    "kernelspec": {
      "name": "python3",
      "display_name": "Python 3"
    },
    "language_info": {
      "name": "python"
    }
  },
  "cells": [
    {
      "cell_type": "markdown",
      "source": [
        "# HW0 - Writing HW Reports\n",
        "### Mac Ambler\n",
        "### DATA 340-02, Spring 2023\n",
        "### 02/02/23\n"
      ],
      "metadata": {
        "id": "cnaJOC71wJvb"
      }
    },
    {
      "cell_type": "markdown",
      "source": [
        "# Q1 - Write a sample report with Google collab or Markdown or LaTeX\n",
        "\n",
        "**Google collab notebook**\n",
        "\n",
        "*   From the hw0 folder of your private GitHub assignment repo, create a new \n",
        "Python notebook file (hw0_report.ipynb) by editing the content of data_340_02_report_template.ipynb.\n",
        "\n",
        "*   Modify the content to include your name, class (DATA 340-02), assignment number/title, and dates for this exercise.\n",
        "\n",
        "*   Upload an image to your GitHub repo and include it in place of the \"Growth of the Early Web\" image. Make sure to change the description of the image in the report, too.\n",
        "\n",
        "*   Replace the code in the fenced code block with any other block of code. You can use some Python code, or you can insert code from a different language -- just change the language indicated so that syntax highlighting still works properly.\n",
        "\n",
        "*   Edit the first table so that it matches the first 4 weeks of our class schedule, as given in our syllabus.\n",
        "\n",
        "*   In the References section, replace the placeholder references with three webpages that you've visited so far this semester related to the class. These should include both the title of the webpage/article and the URL.\n",
        "\n",
        "*   Finally, make sure that your hw0 folder in your GitHub assignments repo contains the final version of your edited report file (hw0_report.ipynb) and your included image. In your final commit, use the commit message @anwala ready to grade.\n",
        "\n",
        "## Answer\n",
        "\n",
        "The picture below displays a spherical, yellow smiley face sitting on gravel.\n",
        "\n",
        "![\\label{fig:web-growth}](https://mymodernmet.com/wp/wp-content/uploads/2020/08/smiley-face-history-0.jpg)\n",
        "\n",
        "*In addition to screenshots, include code in your report*"
      ],
      "metadata": {
        "id": "N2VNck0DylKe"
      }
    },
    {
      "cell_type": "code",
      "source": [
        "# import uniform distribution\n",
        "import pandas as pd\n",
        "import numpy as np\n",
        "import matplotlib.pyplot as plt\n",
        "from scipy.stats import uniform\n",
        "import seaborn as sns\n",
        "from scipy import stats\n",
        "import warnings\n",
        "warnings.simplefilter(action='ignore')\n",
        "# random numbers from uniform distribution\n",
        "# Generate n numbers from  to 5\n",
        "n = 100\n",
        "a = -1\n",
        "b = 2\n",
        "data_uniform = uniform.rvs(size=n, loc = a, scale=b) # this is the actual sampling\n",
        "fig, ax = plt.subplots(figsize=(8,6))\n",
        "ax = sns.distplot(data_uniform,\n",
        "                  bins=11,\n",
        "                  kde=False,\n",
        "                  color='deepskyblue',\n",
        "                  hist_kws={\"color\":'lightpink'},\n",
        "                  fit=stats.uniform,\n",
        "                  fit_kws={\"color\":'deepskyblue'})\n",
        "ax.set(xlabel='Uniformly Distributed Random Variable ', ylabel='Frequency', title='Uniform Distribution')\n",
        "plt.show()"
      ],
      "metadata": {
        "colab": {
          "base_uri": "https://localhost:8080/",
          "height": 404
        },
        "id": "gMfPsTR0zJrJ",
        "outputId": "d80f615c-f0cb-491f-a968-eae805e9ed7f"
      },
      "execution_count": 5,
      "outputs": [
        {
          "output_type": "display_data",
          "data": {
            "text/plain": [
              "<Figure size 576x432 with 1 Axes>"
            ],
            "image/png": "[encoded data removed]"
          },
          "metadata": {
            "needs_background": "light"
          }
        }
      ]
    },
    {
      "cell_type": "markdown",
      "source": [
        "The table below shows a simple table.  \n",
        "\n",
        "|Week|Date|Topic|\n",
        "|:---|:---|:---|\n",
        "|1|Jan 26|Introductions|\n",
        "|2|Jan 31 & Feb 2|Network Elements|\n",
        "|3|Feb 7 & 9|Network Elements|\n",
        "|4|Feb 14 & 16|Small Worlds|"
      ],
      "metadata": {
        "id": "IZ2yQEolpc5R"
      }
    },
    {
      "cell_type": "markdown",
      "source": [
        "## Discussion\n",
        "\n",
        "*You must provide some discussion of every answer. Discuss how you arrived at the answer and the tools you used. Discuss the implications of your answer.*\n",
        "\n",
        "\n",
        "# References\n",
        "\n",
        "* W&M DATA 340-02 - Network Science, Spring 2023, <https://github.com/anwala/teaching-network-science/tree/main/spring-2023>\n",
        "* W&M DATA 340-02 - Network Science, Spring 2023 Syllabus, <https://github.com/anwala/teaching-network-science/blob/main/spring-2023/syllabus.md>\n",
        "* Homework 0 - Writing HW Reports, <https://github.com/anwala/teaching-network-science/tree/main/spring-2023/homework/hw0>\n"
      ],
      "metadata": {
        "id": "CL4_WDbOzkGK"
      }
    }
  ]
}